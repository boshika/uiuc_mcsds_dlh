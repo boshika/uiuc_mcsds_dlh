{
 "cells": [
  {
   "cell_type": "code",
   "execution_count": 33,
   "metadata": {
    "ExecuteTime": {
     "end_time": "2020-10-26T06:44:00.309209Z",
     "start_time": "2020-10-26T06:44:00.306618Z"
    }
   },
   "outputs": [],
   "source": [
    "import pickle\n",
    "import json\n",
    "import datetime"
   ]
  },
  {
   "cell_type": "code",
   "execution_count": 34,
   "metadata": {
    "ExecuteTime": {
     "end_time": "2020-10-26T06:44:00.743879Z",
     "start_time": "2020-10-26T06:44:00.688710Z"
    }
   },
   "outputs": [],
   "source": [
    "pids = pickle.load(open('mimic3.pids', 'rb'))\n",
    "dates = pickle.load(open('mimic3.dates', 'rb'))\n",
    "morts = pickle.load(open('mimic3.morts', 'rb'))\n",
    "seqs = pickle.load(open('mimic3.3digitICD9.seqs', 'rb'))\n",
    "types = pickle.load(open('mimic3.3digitICD9.types', 'rb'))\n",
    "rtypes = dict([(v,k) for k,v in types.items()])\n",
    "\n",
    "assert len(pids) == len(dates) == len(morts) == len(seqs) == 7537\n",
    "assert len(types) == 942"
   ]
  },
  {
   "cell_type": "code",
   "execution_count": 19,
   "metadata": {
    "ExecuteTime": {
     "end_time": "2020-10-26T06:40:16.894478Z",
     "start_time": "2020-10-26T06:40:16.649245Z"
    }
   },
   "outputs": [],
   "source": [
    "with open('mimic3.pids.json', 'w') as file:\n",
    "    json.dump(pids, file)\n",
    "with open('mimic3.dates.json', 'w') as file:\n",
    "    json.dump(dates, file, default=str)\n",
    "with open('mimic3.morts.json', 'w') as file:\n",
    "    json.dump(morts, file)\n",
    "with open('mimic3.3digitICD9.seqs.json', 'w') as file:\n",
    "    json.dump(seqs, file)\n",
    "with open('mimic3.3digitICD9.types.json', 'w') as file:\n",
    "    json.dump(types, file)"
   ]
  },
  {
   "cell_type": "code",
   "execution_count": 35,
   "metadata": {
    "ExecuteTime": {
     "end_time": "2020-10-26T06:44:02.825694Z",
     "start_time": "2020-10-26T06:44:02.632565Z"
    }
   },
   "outputs": [],
   "source": [
    "with open('mimic3.pids.json') as file:\n",
    "    json_pids = json.load(file)\n",
    "with open('mimic3.dates.json') as file:\n",
    "    json_dates = json.load(file)\n",
    "    json_dates = [[datetime.datetime.strptime(date, '%Y-%m-%d %H:%M:%S')for date in dates] for dates in json_dates]\n",
    "with open('mimic3.morts.json') as file:\n",
    "    json_morts = json.load(file)\n",
    "with open('mimic3.3digitICD9.seqs.json') as file:\n",
    "    json_seqs = json.load(file)\n",
    "with open('mimic3.3digitICD9.types.json') as file:\n",
    "    json_types = json.load(file)"
   ]
  },
  {
   "cell_type": "code",
   "execution_count": 36,
   "metadata": {
    "ExecuteTime": {
     "end_time": "2020-10-26T06:44:03.521026Z",
     "start_time": "2020-10-26T06:44:03.513255Z"
    }
   },
   "outputs": [],
   "source": [
    "assert json_pids == pids\n",
    "assert json_dates == dates\n",
    "assert json_morts == morts\n",
    "assert json_seqs == seqs\n",
    "assert json_types == types"
   ]
  },
  {
   "cell_type": "code",
   "execution_count": null,
   "metadata": {},
   "outputs": [],
   "source": []
  }
 ],
 "metadata": {
  "kernelspec": {
   "display_name": "pytorch16",
   "language": "python",
   "name": "pytorch16"
  },
  "language_info": {
   "codemirror_mode": {
    "name": "ipython",
    "version": 3
   },
   "file_extension": ".py",
   "mimetype": "text/x-python",
   "name": "python",
   "nbconvert_exporter": "python",
   "pygments_lexer": "ipython3",
   "version": "3.8.5"
  },
  "toc": {
   "base_numbering": 1,
   "nav_menu": {},
   "number_sections": false,
   "sideBar": true,
   "skip_h1_title": true,
   "title_cell": "Table of Contents",
   "title_sidebar": "Contents",
   "toc_cell": false,
   "toc_position": {},
   "toc_section_display": true,
   "toc_window_display": false
  }
 },
 "nbformat": 4,
 "nbformat_minor": 4
}
