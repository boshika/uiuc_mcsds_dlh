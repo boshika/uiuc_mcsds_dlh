{
 "cells": [
  {
   "cell_type": "markdown",
   "metadata": {
    "deletable": false,
    "editable": false,
    "nbgrader": {
     "cell_type": "markdown",
     "checksum": "04cc4de651cabc4842301387d79d37b9",
     "grade": false,
     "grade_id": "cell-e5edec0425de3a50",
     "locked": true,
     "schema_version": 3,
     "solution": false,
     "task": false
    }
   },
   "source": [
    "## Overview\n",
    "\n",
    "In this homework, you will try some embeddings models on text data. Lastly, you will visualize the text embeddings."
   ]
  },
  {
   "cell_type": "markdown",
   "metadata": {
    "deletable": false,
    "editable": false,
    "nbgrader": {
     "cell_type": "markdown",
     "checksum": "e0289a6c9f72f08e66d0b183e6364503",
     "grade": false,
     "grade_id": "cell-25ebf45813d4a47b",
     "locked": true,
     "schema_version": 3,
     "solution": false,
     "task": false
    }
   },
   "source": [
    "---"
   ]
  },
  {
   "cell_type": "code",
   "execution_count": 1,
   "metadata": {
    "ExecuteTime": {
     "end_time": "2021-02-01T17:13:38.595127Z",
     "start_time": "2021-02-01T17:13:38.592201Z"
    },
    "deletable": false,
    "editable": false,
    "nbgrader": {
     "cell_type": "code",
     "checksum": "95025f811550288e4aaf99c560919049",
     "grade": false,
     "grade_id": "cell-4c4fd1b10bb8a9d5",
     "locked": true,
     "schema_version": 3,
     "solution": false,
     "task": false
    }
   },
   "outputs": [],
   "source": [
    "import os\n",
    "import sys\n",
    "\n",
    "DATA_PATH = \"../HW2_Embedding-lib/data/\"\n",
    "\n",
    "assert os.path.isdir(DATA_PATH)\n",
    "sys.path.append('../HW2_Embedding-lib')\n",
    "\n",
    "import matplotlib.pyplot as plt"
   ]
  },
  {
   "cell_type": "markdown",
   "metadata": {
    "deletable": false,
    "editable": false,
    "nbgrader": {
     "cell_type": "markdown",
     "checksum": "4369d4c7200df5775fc38f1c08de0bce",
     "grade": false,
     "grade_id": "cell-ad33073e8b0cba4e",
     "locked": true,
     "schema_version": 3,
     "solution": false,
     "task": false
    }
   },
   "source": [
    "---"
   ]
  },
  {
   "cell_type": "markdown",
   "metadata": {
    "deletable": false,
    "editable": false,
    "nbgrader": {
     "cell_type": "markdown",
     "checksum": "ce26fe8021144d203529976d017f1a9c",
     "grade": false,
     "grade_id": "cell-f336fcb19e9320b8",
     "locked": true,
     "schema_version": 3,
     "solution": false,
     "task": false
    }
   },
   "source": [
    "## 1 Word2Vec [60 points]\n",
    "\n",
    "In this question, you will perform word2vec on the given MIMIC-III dataset."
   ]
  },
  {
   "cell_type": "markdown",
   "metadata": {
    "deletable": false,
    "editable": false,
    "nbgrader": {
     "cell_type": "markdown",
     "checksum": "c28781198d7d00af6c2fcc251bf8b2f0",
     "grade": false,
     "grade_id": "cell-cb803a823f1d765d",
     "locked": true,
     "schema_version": 3,
     "solution": false,
     "task": false
    }
   },
   "source": [
    "## About Raw Data\n",
    "\n",
    "Navigate to `DATA_PATH`, in the `mimic-iii-clinical-notes` folder, there are a csv file used for training. The data is originally from the MIMIC-III (Medical Information Mart for Intensive Care) database. A detailed description of the dataset could be found [here](https://mimic.physionet.org)."
   ]
  },
  {
   "cell_type": "code",
   "execution_count": 2,
   "metadata": {
    "ExecuteTime": {
     "end_time": "2021-02-01T17:13:51.121647Z",
     "start_time": "2021-02-01T17:13:50.999618Z"
    },
    "deletable": false,
    "editable": false,
    "nbgrader": {
     "cell_type": "code",
     "checksum": "bf559a19165ab5a75fa1de0fa90a1593",
     "grade": false,
     "grade_id": "cell-7177107106467bac",
     "locked": true,
     "schema_version": 3,
     "solution": false,
     "task": false
    }
   },
   "outputs": [
    {
     "name": "stdout",
     "output_type": "stream",
     "text": [
      "train.csv\r\n"
     ]
    }
   ],
   "source": [
    "!ls {DATA_PATH}/mimic-iii-clinical-notes"
   ]
  },
  {
   "cell_type": "markdown",
   "metadata": {
    "deletable": false,
    "editable": false,
    "nbgrader": {
     "cell_type": "markdown",
     "checksum": "fec02b80d6a9abae70bd2dc563af9e3f",
     "grade": false,
     "grade_id": "cell-a069bf0ccf3fe69c",
     "locked": true,
     "schema_version": 3,
     "solution": false,
     "task": false
    }
   },
   "source": [
    "The data provided in *train.csv* is a merged table originally from the ADMISSIONS and NOTEEVENTS MIMIC tables. \n",
    "\n",
    "The columns of interest in this table are:\n",
    "- **SUBJECT_ID**: unique identifier for each subject\n",
    "- **HADM_ID**: unique identifier for each hospitalization\n",
    "- **ADMITTIME**: admission date with format YYYY-MM-DD hh:mm:ss\n",
    "- **DISCHTIME**: discharge date with format YYYY-MM-DD hh:mm:ss\n",
    "- **DAYS_NEXT_ADMIT**: the days until the next admission (if it exists)\n",
    "- **NEXT_ADMITTIME**: the date of the next admission (if it exists)\n",
    "- **ADMISSION_TYPE**: includes ELECTIVE, EMERGENCY, NEWBORN, URGENT\n",
    "- **DEATHTIME**: death time (if it exists) with format YYYY-MM-DD hh:mm:ss\n",
    "- **TEXT**: clinical notes\n",
    "- **OUTPUT_LABEL**: label indicating if a patient will be admitted in the next 30 days (1 = readmitted, 0 = not readmitted)"
   ]
  },
  {
   "cell_type": "code",
   "execution_count": 3,
   "metadata": {
    "ExecuteTime": {
     "end_time": "2021-02-01T17:13:51.221444Z",
     "start_time": "2021-02-01T17:13:51.123775Z"
    },
    "deletable": false,
    "editable": false,
    "nbgrader": {
     "cell_type": "code",
     "checksum": "4e716769d742e4b89b3e6ac28d2f9baa",
     "grade": false,
     "grade_id": "cell-6875d3fe31b5dc38",
     "locked": true,
     "schema_version": 3,
     "solution": false,
     "task": false
    }
   },
   "outputs": [
    {
     "data": {
      "text/html": [
       "<div>\n",
       "<style scoped>\n",
       "    .dataframe tbody tr th:only-of-type {\n",
       "        vertical-align: middle;\n",
       "    }\n",
       "\n",
       "    .dataframe tbody tr th {\n",
       "        vertical-align: top;\n",
       "    }\n",
       "\n",
       "    .dataframe thead th {\n",
       "        text-align: right;\n",
       "    }\n",
       "</style>\n",
       "<table border=\"1\" class=\"dataframe\">\n",
       "  <thead>\n",
       "    <tr style=\"text-align: right;\">\n",
       "      <th></th>\n",
       "      <th>SUBJECT_ID</th>\n",
       "      <th>HADM_ID</th>\n",
       "      <th>ADMITTIME</th>\n",
       "      <th>DISCHTIME</th>\n",
       "      <th>DAYS_NEXT_ADMIT</th>\n",
       "      <th>NEXT_ADMITTIME</th>\n",
       "      <th>ADMISSION_TYPE</th>\n",
       "      <th>DEATHTIME</th>\n",
       "      <th>TEXT</th>\n",
       "      <th>OUTPUT_LABEL</th>\n",
       "    </tr>\n",
       "  </thead>\n",
       "  <tbody>\n",
       "    <tr>\n",
       "      <th>0</th>\n",
       "      <td>45441</td>\n",
       "      <td>138742</td>\n",
       "      <td>2157-01-14 01:41:00</td>\n",
       "      <td>2157-01-18 16:00:00</td>\n",
       "      <td>NaN</td>\n",
       "      <td>NaN</td>\n",
       "      <td>EMERGENCY</td>\n",
       "      <td>NaN</td>\n",
       "      <td>Admission Date:  [**2157-1-14**]              ...</td>\n",
       "      <td>0</td>\n",
       "    </tr>\n",
       "    <tr>\n",
       "      <th>1</th>\n",
       "      <td>24356</td>\n",
       "      <td>181685</td>\n",
       "      <td>2158-03-26 01:43:00</td>\n",
       "      <td>2158-03-27 17:20:00</td>\n",
       "      <td>NaN</td>\n",
       "      <td>NaN</td>\n",
       "      <td>EMERGENCY</td>\n",
       "      <td>NaN</td>\n",
       "      <td>NaN</td>\n",
       "      <td>0</td>\n",
       "    </tr>\n",
       "    <tr>\n",
       "      <th>2</th>\n",
       "      <td>21817</td>\n",
       "      <td>125287</td>\n",
       "      <td>2117-08-02 19:36:00</td>\n",
       "      <td>2117-08-06 14:45:00</td>\n",
       "      <td>3.367361</td>\n",
       "      <td>2117-08-09 23:34:00</td>\n",
       "      <td>EMERGENCY</td>\n",
       "      <td>NaN</td>\n",
       "      <td>Name:  [**Known lastname 6309**], [**Known fir...</td>\n",
       "      <td>1</td>\n",
       "    </tr>\n",
       "    <tr>\n",
       "      <th>3</th>\n",
       "      <td>63941</td>\n",
       "      <td>126602</td>\n",
       "      <td>2196-04-22 19:32:00</td>\n",
       "      <td>2196-04-27 18:18:00</td>\n",
       "      <td>NaN</td>\n",
       "      <td>NaN</td>\n",
       "      <td>EMERGENCY</td>\n",
       "      <td>NaN</td>\n",
       "      <td>Admission Date:  [**2196-4-22**]              ...</td>\n",
       "      <td>0</td>\n",
       "    </tr>\n",
       "    <tr>\n",
       "      <th>4</th>\n",
       "      <td>32420</td>\n",
       "      <td>137514</td>\n",
       "      <td>2110-06-16 14:04:00</td>\n",
       "      <td>2110-06-25 19:00:00</td>\n",
       "      <td>0.755556</td>\n",
       "      <td>2110-06-26 13:08:00</td>\n",
       "      <td>EMERGENCY</td>\n",
       "      <td>NaN</td>\n",
       "      <td>Admission Date:  [**2110-6-16**]              ...</td>\n",
       "      <td>1</td>\n",
       "    </tr>\n",
       "  </tbody>\n",
       "</table>\n",
       "</div>"
      ],
      "text/plain": [
       "   SUBJECT_ID  HADM_ID            ADMITTIME            DISCHTIME  \\\n",
       "0       45441   138742  2157-01-14 01:41:00  2157-01-18 16:00:00   \n",
       "1       24356   181685  2158-03-26 01:43:00  2158-03-27 17:20:00   \n",
       "2       21817   125287  2117-08-02 19:36:00  2117-08-06 14:45:00   \n",
       "3       63941   126602  2196-04-22 19:32:00  2196-04-27 18:18:00   \n",
       "4       32420   137514  2110-06-16 14:04:00  2110-06-25 19:00:00   \n",
       "\n",
       "   DAYS_NEXT_ADMIT       NEXT_ADMITTIME ADMISSION_TYPE DEATHTIME  \\\n",
       "0              NaN                  NaN      EMERGENCY       NaN   \n",
       "1              NaN                  NaN      EMERGENCY       NaN   \n",
       "2         3.367361  2117-08-09 23:34:00      EMERGENCY       NaN   \n",
       "3              NaN                  NaN      EMERGENCY       NaN   \n",
       "4         0.755556  2110-06-26 13:08:00      EMERGENCY       NaN   \n",
       "\n",
       "                                                TEXT  OUTPUT_LABEL  \n",
       "0  Admission Date:  [**2157-1-14**]              ...             0  \n",
       "1                                                NaN             0  \n",
       "2  Name:  [**Known lastname 6309**], [**Known fir...             1  \n",
       "3  Admission Date:  [**2196-4-22**]              ...             0  \n",
       "4  Admission Date:  [**2110-6-16**]              ...             1  "
      ]
     },
     "execution_count": 3,
     "metadata": {},
     "output_type": "execute_result"
    }
   ],
   "source": [
    "import pandas as pd\n",
    "\n",
    "\n",
    "def load_dataset(filepath):    \n",
    "    \"\"\" Read the train.csv file \"\"\"\n",
    "    df_train = pd.read_csv(filepath + 'train.csv', index_col=0)\n",
    "    return df_train\n",
    "\n",
    "\n",
    "df_train = load_dataset(os.path.join(DATA_PATH, 'mimic-iii-clinical-notes/'))\n",
    "df_train.head()"
   ]
  },
  {
   "cell_type": "markdown",
   "metadata": {
    "deletable": false,
    "editable": false,
    "nbgrader": {
     "cell_type": "markdown",
     "checksum": "d5d8034f05c4850511fb1670df32e4c4",
     "grade": false,
     "grade_id": "cell-310d771751f41c87",
     "locked": true,
     "schema_version": 3,
     "solution": false,
     "task": false
    }
   },
   "source": [
    "### 1.1 Preprocess the text data [20 points]\n",
    "\n",
    "In order to preprocess the text data, you should:\n",
    "- Fill NA with SPACE\n",
    "- Replace new lines ('\\n') and carriage returns ('\\r') with SPACE\n",
    "- Replace punctuations and numbers with SPACE\n",
    "- Convert to lower-case\n",
    "- Split each sentence into a list of words"
   ]
  },
  {
   "cell_type": "code",
   "execution_count": 17,
   "metadata": {
    "ExecuteTime": {
     "end_time": "2021-02-01T17:13:51.436327Z",
     "start_time": "2021-02-01T17:13:51.223499Z"
    },
    "deletable": false
   },
   "outputs": [],
   "source": [
    "import time\n",
    "import numpy as np\n",
    "import string\n",
    "from nltk import word_tokenize\n",
    "\n",
    "\n",
    "# PLEASE USE THE GIVEN FUNCTION NAME, DO NOT CHANGE IT\n",
    "\n",
    "\n",
    "#input\n",
    "# df: a dataframe returned by `load_dataset`\n",
    "#output\n",
    "# clinical_notes: a list of clinical notes where each clinical note is broke into a list of words \n",
    "def preprocess_dataset(df):    \n",
    "    ''' Preprocess the text data. And return a list of clinical notes. '''\n",
    "    clinical_notes = []\n",
    "    \n",
    "    df.TEXT = df.TEXT.fillna(' ')  # remove NA\n",
    "    df.TEXT = df.TEXT.str.replace('\\n',' ')  # remove newline\n",
    "    df.TEXT = df.TEXT.str.replace('\\r',' ')\n",
    "    \"\"\"\n",
    "    TODO: 1. remove punc;\n",
    "          2. remove numbers.\n",
    "          \n",
    "    HINT: consider using `string.punctuation`, `str.maketrans`, and `str.translate`.\n",
    "    \"\"\"\n",
    "#     # your code here\n",
    "    df.TEXT = df.TEXT.str.translate(str.maketrans('', '', string.punctuation))\n",
    "    tr = str.maketrans(string.ascii_letters, string.ascii_letters, string.digits)\n",
    "    df.TEXT = df.TEXT.str.translate(tr)\n",
    "#     raise NotImplementedError\n",
    "    \n",
    "    df.TEXT = df.TEXT.str.lower()  # convert to lower case\n",
    "    \n",
    "    # tokenize\n",
    "    for note in df.TEXT.values:\n",
    "        note_tokenized = word_tokenize(note)\n",
    "        clinical_notes.append(note_tokenized)\n",
    "\n",
    "    return clinical_notes"
   ]
  },
  {
   "cell_type": "code",
   "execution_count": 18,
   "metadata": {
    "ExecuteTime": {
     "end_time": "2021-02-01T17:13:55.503414Z",
     "start_time": "2021-02-01T17:13:51.437546Z"
    },
    "deletable": false,
    "editable": false,
    "nbgrader": {
     "cell_type": "code",
     "checksum": "e2f44f843c620aee82ba8547f6287b05",
     "grade": false,
     "grade_id": "cell-98e3c75e6503a17f",
     "locked": true,
     "schema_version": 3,
     "solution": false,
     "task": false
    }
   },
   "outputs": [],
   "source": [
    "train_clinical_notes = preprocess_dataset(df_train)"
   ]
  },
  {
   "cell_type": "code",
   "execution_count": 19,
   "metadata": {
    "deletable": false,
    "editable": false,
    "nbgrader": {
     "cell_type": "code",
     "checksum": "c05644c43d9aefa33679e2f63733a8ce",
     "grade": false,
     "grade_id": "cell-b18d8af03ccfa839",
     "locked": true,
     "schema_version": 3,
     "solution": false,
     "task": false
    }
   },
   "outputs": [],
   "source": [
    "'''\n",
    "AUTOGRADER CELL. DO NOT MODIFY THIS.\n",
    "'''\n",
    "\n",
    "assert len(train_clinical_notes) == 800\n",
    "\n",
    "for note in train_clinical_notes:\n",
    "    a = [i.isalpha() for i in note]\n",
    "    assert False not in a, \"numbers, punctuations are not removed!\""
   ]
  },
  {
   "cell_type": "code",
   "execution_count": 20,
   "metadata": {
    "ExecuteTime": {
     "end_time": "2021-02-01T17:13:55.538425Z",
     "start_time": "2021-02-01T17:13:55.504954Z"
    },
    "deletable": false,
    "editable": false,
    "nbgrader": {
     "cell_type": "code",
     "checksum": "a53995ec366b5126e2ac15061ecc76ef",
     "grade": true,
     "grade_id": "cell-b95b4537f3421f02",
     "locked": true,
     "points": 20,
     "schema_version": 3,
     "solution": false,
     "task": false
    }
   },
   "outputs": [
    {
     "data": {
      "text/plain": [
       "'\\nAUTOGRADER CELL. DO NOT MODIFY THIS.\\n'"
      ]
     },
     "execution_count": 20,
     "metadata": {},
     "output_type": "execute_result"
    }
   ],
   "source": [
    "'''\n",
    "AUTOGRADER CELL. DO NOT MODIFY THIS.\n",
    "'''\n",
    "\n"
   ]
  },
  {
   "cell_type": "markdown",
   "metadata": {
    "deletable": false,
    "editable": false,
    "nbgrader": {
     "cell_type": "markdown",
     "checksum": "27451c7a9093d1b1412fb1bb02422507",
     "grade": false,
     "grade_id": "cell-26ec70e552d7447c",
     "locked": true,
     "schema_version": 3,
     "solution": false,
     "task": false
    }
   },
   "source": [
    "### 1.2 Train a word2vec model [20 points]\n",
    "We will be using the Word2Vec implementation. You should:\n",
    "1. Set the word vector size to 100. \n",
    "2. Ignores all words with total frequency lower than (<) 20. \n",
    "3. use only 1 worker (workers=1) to ensure deterministic behavior\n",
    "4. set the seed to the provided value RANDOM_SEED\n",
    "Keep the other paramters as default. Train the model on the training dataset.\n",
    "\n",
    "REFERENCE: [tutorial](https://radimrehurek.com/gensim/models/word2vec.html)"
   ]
  },
  {
   "cell_type": "code",
   "execution_count": 26,
   "metadata": {
    "ExecuteTime": {
     "end_time": "2021-02-01T17:13:58.591382Z",
     "start_time": "2021-02-01T17:13:55.540126Z"
    },
    "deletable": false
   },
   "outputs": [],
   "source": [
    "RANDOM_SEED = 2021\n",
    "import os; os.environ['PYTHONHASHSEED'] = str(RANDOM_SEED)\n",
    "# DO NOT modify these (or Coursera may timeout)!\n",
    "# Dimensionality of the word vectors\n",
    "VEC_SIZE=100\n",
    "# Ignores all words with total frequency lower than this\n",
    "MIN_COUNT = 20\n",
    "\n",
    "from gensim.models import Word2Vec\n",
    "\n",
    "\"\"\"\n",
    "TODO: Train the Word2Vec model (`w2v_model`).\n",
    "NOTE: Remember to set the `size` and `min_count`.\n",
    "\"\"\"\n",
    "w2v_model = None\n",
    "w2v_model = Word2Vec(sentences=train_clinical_notes, size=VEC_SIZE, min_count=MIN_COUNT, workers=1, seed=RANDOM_SEED)\n",
    "# raise NotImplementedError\n",
    "\n",
    "assert w2v_model.workers == 1, \"Please use only 1 worker for deterministic behavior.\""
   ]
  },
  {
   "cell_type": "code",
   "execution_count": 27,
   "metadata": {
    "ExecuteTime": {
     "end_time": "2021-02-01T17:13:58.595886Z",
     "start_time": "2021-02-01T17:13:58.593051Z"
    },
    "deletable": false,
    "editable": false,
    "nbgrader": {
     "cell_type": "code",
     "checksum": "642a07605c63c35343fce0b48e38a7ea",
     "grade": false,
     "grade_id": "cell-7f76d5e5bc961b32",
     "locked": true,
     "schema_version": 3,
     "solution": false,
     "task": false
    }
   },
   "outputs": [
    {
     "name": "stdout",
     "output_type": "stream",
     "text": [
      "Size of vocab: 4293\n",
      "First five vocabs:  ['admission', 'date', 'discharge', 'of', 'birth']\n"
     ]
    }
   ],
   "source": [
    "print(\"Size of vocab: %d\" % len(w2v_model.wv.vocab))\n",
    "print(\"First five vocabs: \", list(w2v_model.wv.vocab)[:5])"
   ]
  },
  {
   "cell_type": "code",
   "execution_count": 28,
   "metadata": {
    "deletable": false,
    "editable": false,
    "nbgrader": {
     "cell_type": "code",
     "checksum": "15c133a02fe97568ea7ec8b27f3af9db",
     "grade": false,
     "grade_id": "cell-b73537b2d7a4fab9",
     "locked": true,
     "schema_version": 3,
     "solution": false,
     "task": false
    }
   },
   "outputs": [],
   "source": [
    "'''\n",
    "AUTOGRADER CELL. DO NOT MODIFY THIS.\n",
    "'''\n",
    "\n",
    "assert isinstance(train_clinical_notes, list)\n",
    "assert isinstance(w2v_model, Word2Vec)"
   ]
  },
  {
   "cell_type": "code",
   "execution_count": 29,
   "metadata": {
    "ExecuteTime": {
     "end_time": "2021-02-01T17:13:58.599517Z",
     "start_time": "2021-02-01T17:13:58.597231Z"
    },
    "deletable": false,
    "editable": false,
    "nbgrader": {
     "cell_type": "code",
     "checksum": "1b5beb4d9dd6a34f1faf6cc7701f4c90",
     "grade": true,
     "grade_id": "cell-675c09b559fd1a35",
     "locked": true,
     "points": 20,
     "schema_version": 3,
     "solution": false,
     "task": false
    }
   },
   "outputs": [
    {
     "data": {
      "text/plain": [
       "'\\nAUTOGRADER CELL. DO NOT MODIFY THIS.\\n'"
      ]
     },
     "execution_count": 29,
     "metadata": {},
     "output_type": "execute_result"
    }
   ],
   "source": [
    "'''\n",
    "AUTOGRADER CELL. DO NOT MODIFY THIS.\n",
    "'''\n",
    "\n"
   ]
  },
  {
   "cell_type": "markdown",
   "metadata": {
    "deletable": false,
    "editable": false,
    "nbgrader": {
     "cell_type": "markdown",
     "checksum": "87111c81fde81778c52fed58002abdb9",
     "grade": false,
     "grade_id": "cell-d522f551ab504e34",
     "locked": true,
     "schema_version": 3,
     "solution": false,
     "task": false
    }
   },
   "source": [
    "### 1.3 Evaluate the model [20 points]"
   ]
  },
  {
   "cell_type": "markdown",
   "metadata": {
    "deletable": false,
    "editable": false,
    "nbgrader": {
     "cell_type": "markdown",
     "checksum": "09a9a7de72e1585e96ab2d20005b5a85",
     "grade": false,
     "grade_id": "cell-06afb6c19c18b838",
     "locked": true,
     "schema_version": 3,
     "solution": false,
     "task": false
    }
   },
   "source": [
    "**Odd one out**: Given three words (e.g. 'consolidation', 'opacity' and 'signal'), find the odd one out (e.g. 'signal')."
   ]
  },
  {
   "cell_type": "code",
   "execution_count": null,
   "metadata": {
    "ExecuteTime": {
     "end_time": "2021-02-01T17:13:58.602695Z",
     "start_time": "2021-02-01T17:13:58.600737Z"
    },
    "deletable": false
   },
   "outputs": [],
   "source": [
    "#input\n",
    "# model: word2vec model\n",
    "# list_of_words: a list of words, e.g. ['consolidation', 'opacity', 'signal']\n",
    "#output\n",
    "# odd_word: the odd word\n",
    "def odd_one_out(model, list_of_words):\n",
    "    \n",
    "    \"\"\"\n",
    "    TODO: Find the odd word from the list using the trained word2vec model.\n",
    "    HINT: Consider the *doesnt_match* method.\n",
    "    \"\"\"\n",
    "    \n",
    "    # your code here\n",
    "    raise NotImplementedError"
   ]
  },
  {
   "cell_type": "code",
   "execution_count": null,
   "metadata": {
    "deletable": false,
    "editable": false,
    "nbgrader": {
     "cell_type": "code",
     "checksum": "6eb3a245bc27f3de3cdccde1d229317d",
     "grade": false,
     "grade_id": "cell-70c9f6f90b1753cd",
     "locked": true,
     "schema_version": 3,
     "solution": false,
     "task": false
    }
   },
   "outputs": [],
   "source": [
    "'''\n",
    "AUTOGRADER CELL. DO NOT MODIFY THIS.\n",
    "'''\n",
    "\n",
    "list_of_words = ['consolidation', 'opacity', 'signal']\n",
    "assert type(odd_one_out(w2v_model, list_of_words)) is str\n",
    "print(\"The odd word among '%s' is: '%s'.\" % (', '.join(list_of_words), odd_one_out(w2v_model, list_of_words)))\n",
    "\n",
    "list_of_words = ['heart', 'beat', 'pupil']\n",
    "assert type(odd_one_out(w2v_model, list_of_words)) is str\n",
    "print(\"The odd word among '%s' is: '%s'.\" % (', '.join(list_of_words), odd_one_out(w2v_model, list_of_words)))\n"
   ]
  },
  {
   "cell_type": "code",
   "execution_count": null,
   "metadata": {
    "ExecuteTime": {
     "end_time": "2021-02-01T17:13:58.609210Z",
     "start_time": "2021-02-01T17:13:58.603775Z"
    },
    "deletable": false,
    "editable": false,
    "nbgrader": {
     "cell_type": "code",
     "checksum": "a2f008c02857d9df7c266a3c9ef2e888",
     "grade": true,
     "grade_id": "cell-c3c73f089da4be5b",
     "locked": true,
     "points": 10,
     "schema_version": 3,
     "solution": false,
     "task": false
    }
   },
   "outputs": [],
   "source": [
    "'''\n",
    "AUTOGRADER CELL. DO NOT MODIFY THIS.\n",
    "'''\n",
    "\n"
   ]
  },
  {
   "cell_type": "markdown",
   "metadata": {
    "deletable": false,
    "editable": false,
    "nbgrader": {
     "cell_type": "markdown",
     "checksum": "d251bf15d567a210c6ef4bdabc099960",
     "grade": false,
     "grade_id": "cell-d9197cf113a928f1",
     "locked": true,
     "schema_version": 3,
     "solution": false,
     "task": false
    }
   },
   "source": [
    "**Similar words**: Given a word (e.g. 'consolidation'), find the words similar to this word (e.g. 'opacity')."
   ]
  },
  {
   "cell_type": "code",
   "execution_count": null,
   "metadata": {
    "ExecuteTime": {
     "end_time": "2021-02-01T17:13:58.612735Z",
     "start_time": "2021-02-01T17:13:58.610481Z"
    },
    "deletable": false
   },
   "outputs": [],
   "source": [
    "#input: model: word2vec model\n",
    "#       word: a single word, e.g. 'consolidation'\n",
    "#output: list_of_wrods: a list of words similar to the given word\n",
    "def similar_word(model, word):\n",
    "    \n",
    "    \"\"\"\n",
    "    TODO: Find the words similar to the given word.\n",
    "    HINT: Consider the *most_similar* method.\n",
    "    \"\"\"\n",
    "    \n",
    "    list_of_words = []\n",
    "\n",
    "    # your code here\n",
    "    raise NotImplementedError\n",
    "    \n",
    "    return list_of_words"
   ]
  },
  {
   "cell_type": "code",
   "execution_count": null,
   "metadata": {
    "deletable": false,
    "editable": false,
    "nbgrader": {
     "cell_type": "code",
     "checksum": "a44a5f1ab191b2498d2fc1da352f8b40",
     "grade": false,
     "grade_id": "cell-b576a0ef65af7da9",
     "locked": true,
     "schema_version": 3,
     "solution": false,
     "task": false
    }
   },
   "outputs": [],
   "source": [
    "'''\n",
    "AUTOGRADER CELL. DO NOT MODIFY THIS.\n",
    "'''\n",
    "\n",
    "word = 'consolidation'\n",
    "assert type(similar_word(w2v_model, word)) is list\n",
    "print(\"The words similar to '%s' are: '%s'.\" % (word, ', '.join(similar_word(w2v_model, word))))\n",
    "\n",
    "word = 'pain'\n",
    "assert type(similar_word(w2v_model, word)) is list\n",
    "print(\"The words similar to '%s' are: '%s'.\" % (word, ', '.join(similar_word(w2v_model, word))))\n"
   ]
  },
  {
   "cell_type": "code",
   "execution_count": null,
   "metadata": {
    "ExecuteTime": {
     "end_time": "2021-02-01T17:13:58.618637Z",
     "start_time": "2021-02-01T17:13:58.614165Z"
    },
    "deletable": false,
    "editable": false,
    "nbgrader": {
     "cell_type": "code",
     "checksum": "378e22fb59d6f111d5c5216494eba6ad",
     "grade": true,
     "grade_id": "cell-3060fb5d67bb9eb4",
     "locked": true,
     "points": 10,
     "schema_version": 3,
     "solution": false,
     "task": false
    }
   },
   "outputs": [],
   "source": [
    "'''\n",
    "AUTOGRADER CELL. DO NOT MODIFY THIS.\n",
    "'''\n",
    "\n"
   ]
  },
  {
   "cell_type": "markdown",
   "metadata": {
    "deletable": false,
    "editable": false,
    "nbgrader": {
     "cell_type": "markdown",
     "checksum": "0147802b2e693c0e15ae3c9040178836",
     "grade": false,
     "grade_id": "cell-943fce440bd3fb16",
     "locked": true,
     "schema_version": 3,
     "solution": false,
     "task": false
    }
   },
   "source": [
    "## 2 t-SNE, UMAP [40 points]\n",
    "\n",
    "In this question, you will perform t-SNE and UMAP on the medical representations obtained from the previous sections."
   ]
  },
  {
   "cell_type": "code",
   "execution_count": null,
   "metadata": {
    "ExecuteTime": {
     "end_time": "2021-02-01T17:13:58.633953Z",
     "start_time": "2021-02-01T17:13:58.620267Z"
    },
    "deletable": false,
    "editable": false,
    "nbgrader": {
     "cell_type": "code",
     "checksum": "f4f8a9edb8fbfb790fd4d028fe951bc6",
     "grade": false,
     "grade_id": "cell-6ab000213ab012c2",
     "locked": true,
     "schema_version": 3,
     "solution": false,
     "task": false
    }
   },
   "outputs": [],
   "source": [
    "# load the word2vec model from Q2\n",
    "from gensim.models import Word2Vec\n",
    "\n",
    "# embeddings\n",
    "X = w2v_model[w2v_model.wv.vocab]\n",
    "# words\n",
    "W = list(w2v_model.wv.vocab)\n",
    "\n",
    "# select only a subset of the words\n",
    "X_subset = X[:1000]\n",
    "W_subset = W[:1000]"
   ]
  },
  {
   "cell_type": "code",
   "execution_count": null,
   "metadata": {
    "ExecuteTime": {
     "end_time": "2021-02-01T17:13:58.862296Z",
     "start_time": "2021-02-01T17:13:58.635671Z"
    },
    "deletable": false,
    "editable": false,
    "nbgrader": {
     "cell_type": "code",
     "checksum": "d85040632cd9b791086d314ca2d1b83a",
     "grade": false,
     "grade_id": "cell-f4c5333510bb0a62",
     "locked": true,
     "schema_version": 3,
     "solution": false,
     "task": false
    }
   },
   "outputs": [],
   "source": [
    "import matplotlib.pyplot as plt\n",
    "import random\n",
    "\n",
    "def plot(X, Y, W):\n",
    "    fig, ax = plt.subplots(figsize=(15, 15))\n",
    "    ax.plot(Y[:, 0], Y[:, 1], 'o')\n",
    "    ax.set_yticklabels([]) #Hide ticks\n",
    "    ax.set_xticklabels([]) #Hide ticks\n",
    "\n",
    "    for i, word in enumerate(W):\n",
    "        if random.uniform(0,1) > 0.9:\n",
    "            plt.annotate(word, xy=(Y[i, 0], Y[i, 1]))\n",
    "    plt.show()"
   ]
  },
  {
   "cell_type": "markdown",
   "metadata": {
    "deletable": false,
    "editable": false,
    "nbgrader": {
     "cell_type": "markdown",
     "checksum": "81b2f5c1aca7fb3a905bbb01297122db",
     "grade": false,
     "grade_id": "cell-c7582cb8cb8ad50d",
     "locked": true,
     "schema_version": 3,
     "solution": false,
     "task": false
    }
   },
   "source": [
    "### 2.1 t-SNE [20 points]\n",
    "\n",
    "Perform t-SNE on `X_subset` and plot the results. \n",
    "\n",
    "REFERENCE: [tutorial](https://www.datacamp.com/community/tutorials/introduction-t-sne)"
   ]
  },
  {
   "cell_type": "code",
   "execution_count": null,
   "metadata": {
    "ExecuteTime": {
     "end_time": "2021-02-01T17:14:02.695625Z",
     "start_time": "2021-02-01T17:13:58.863538Z"
    },
    "deletable": false
   },
   "outputs": [],
   "source": [
    "# t-SNE\n",
    "\n",
    "from sklearn.manifold import TSNE\n",
    "\n",
    "\n",
    "\"\"\"\n",
    "TODO: Perform t-SNE on `X_subset`.\n",
    "\"\"\"\n",
    "\n",
    "Y_subset_tsne = None\n",
    "\n",
    "# your code here\n",
    "raise NotImplementedError\n",
    "\n",
    "plot(X_subset, Y_subset_tsne, W_subset)"
   ]
  },
  {
   "cell_type": "code",
   "execution_count": null,
   "metadata": {
    "deletable": false,
    "editable": false,
    "nbgrader": {
     "cell_type": "code",
     "checksum": "054f56da071e866ac62d03807375c6da",
     "grade": false,
     "grade_id": "cell-1089364de1d0e97c",
     "locked": true,
     "schema_version": 3,
     "solution": false,
     "task": false
    }
   },
   "outputs": [],
   "source": [
    "'''\n",
    "AUTOGRADER CELL. DO NOT MODIFY THIS.\n",
    "'''\n",
    "\n",
    "from inspect import signature\n",
    "\n",
    "assert len(Y_subset_tsne)==1000, \"Y_subset_tsne has wrong dimensions\"\n",
    "sig = signature(plot)\n",
    "assert len(sig.parameters)==3, \"need to plot all dimensions of t-SNE!\"\n"
   ]
  },
  {
   "cell_type": "code",
   "execution_count": null,
   "metadata": {
    "ExecuteTime": {
     "end_time": "2021-02-01T17:14:02.699244Z",
     "start_time": "2021-02-01T17:14:02.697065Z"
    },
    "deletable": false,
    "editable": false,
    "nbgrader": {
     "cell_type": "code",
     "checksum": "38e9d521d50f641fb368a14058f9d2eb",
     "grade": true,
     "grade_id": "cell-a10e0b6551a4e6de",
     "locked": true,
     "points": 20,
     "schema_version": 3,
     "solution": false,
     "task": false
    }
   },
   "outputs": [],
   "source": [
    "'''\n",
    "AUTOGRADER CELL. DO NOT MODIFY THIS.\n",
    "'''\n",
    "\n"
   ]
  },
  {
   "cell_type": "markdown",
   "metadata": {
    "deletable": false,
    "editable": false,
    "nbgrader": {
     "cell_type": "markdown",
     "checksum": "aad35193812ae21cc63f3efd51c64859",
     "grade": false,
     "grade_id": "cell-1f88a47aa8bd60e4",
     "locked": true,
     "schema_version": 3,
     "solution": false,
     "task": false
    }
   },
   "source": [
    "### 2.2 UMAP [20 points]\n",
    "\n",
    "Perform UMAP on `X_subset` and plot the results. \n",
    "\n",
    "REFERENCE: [tutorial](https://umap-learn.readthedocs.io/en/latest/basic_usage.html#digits-data)"
   ]
  },
  {
   "cell_type": "code",
   "execution_count": null,
   "metadata": {
    "ExecuteTime": {
     "end_time": "2021-02-01T17:14:09.938358Z",
     "start_time": "2021-02-01T17:14:02.700669Z"
    },
    "deletable": false
   },
   "outputs": [],
   "source": [
    "# UMAP\n",
    "\n",
    "import umap.umap_ as umap #package is umap-learn\n",
    "\n",
    "\n",
    "\"\"\"\n",
    "TODO: Perform UMAP on `X_subset`.\n",
    "\"\"\"\n",
    "\n",
    "Y_subset_umap = None\n",
    "\n",
    "# your code here\n",
    "raise NotImplementedError\n",
    "\n",
    "plot(X_subset, Y_subset_umap, W_subset)"
   ]
  },
  {
   "cell_type": "code",
   "execution_count": null,
   "metadata": {
    "deletable": false,
    "editable": false,
    "nbgrader": {
     "cell_type": "code",
     "checksum": "6d91f5ec40092b45ef5cd1da6e551d74",
     "grade": false,
     "grade_id": "cell-6a73cd01e399bfab",
     "locked": true,
     "schema_version": 3,
     "solution": false,
     "task": false
    }
   },
   "outputs": [],
   "source": [
    "'''\n",
    "AUTOGRADER CELL. DO NOT MODIFY THIS.\n",
    "'''\n",
    "\n",
    "from inspect import signature\n",
    "\n",
    "assert len(Y_subset_umap)==1000, \"Y_subset_umap has wrong dimensions\"\n",
    "sig = signature(plot)\n",
    "assert len(sig.parameters)==3, \"need to plot all dimensions of UMAP!\"\n"
   ]
  },
  {
   "cell_type": "code",
   "execution_count": null,
   "metadata": {
    "ExecuteTime": {
     "end_time": "2021-02-01T17:14:10.071758Z",
     "start_time": "2021-02-01T17:14:09.939651Z"
    },
    "deletable": false,
    "editable": false,
    "nbgrader": {
     "cell_type": "code",
     "checksum": "128070d2c052a0073c6bb4b03b1ec22b",
     "grade": true,
     "grade_id": "cell-e0b9149a175c8ac2",
     "locked": true,
     "points": 20,
     "schema_version": 3,
     "solution": false,
     "task": false
    }
   },
   "outputs": [],
   "source": [
    "'''\n",
    "AUTOGRADER CELL. DO NOT MODIFY THIS.\n",
    "'''\n",
    "\n"
   ]
  },
  {
   "cell_type": "markdown",
   "metadata": {
    "deletable": false,
    "editable": false,
    "nbgrader": {
     "cell_type": "markdown",
     "checksum": "0401f36c83e1e010349137f4b11d6a84",
     "grade": false,
     "grade_id": "cell-ea4894d3630e1b9b",
     "locked": true,
     "schema_version": 3,
     "solution": false,
     "task": false
    }
   },
   "source": [
    "Check if the embeddings make sense. Due to the hardware and runtime limitation, we cannot reach the state-of-the-art performance. But you will have chance to work with more advanced model in the project."
   ]
  }
 ],
 "metadata": {
  "illinois_payload": {
   "b64z": "",
   "nb_path": "release/HW2_Embedding/HW2_Embedding.ipynb"
  },
  "kernelspec": {
   "display_name": "Python 3 (Threads: 2)",
   "language": "python",
   "name": "python3"
  },
  "language_info": {
   "codemirror_mode": {
    "name": "ipython",
    "version": 3
   },
   "file_extension": ".py",
   "mimetype": "text/x-python",
   "name": "python",
   "nbconvert_exporter": "python",
   "pygments_lexer": "ipython3",
   "version": "3.8.6"
  },
  "toc": {
   "base_numbering": 1,
   "nav_menu": {},
   "number_sections": false,
   "sideBar": true,
   "skip_h1_title": true,
   "title_cell": "Table of Contents",
   "title_sidebar": "Contents",
   "toc_cell": false,
   "toc_position": {
    "height": "calc(100% - 180px)",
    "left": "10px",
    "top": "150px",
    "width": "292.390625px"
   },
   "toc_section_display": true,
   "toc_window_display": true
  },
  "varInspector": {
   "cols": {
    "lenName": 16,
    "lenType": 16,
    "lenVar": 40
   },
   "kernels_config": {
    "python": {
     "delete_cmd_postfix": "",
     "delete_cmd_prefix": "del ",
     "library": "var_list.py",
     "varRefreshCmd": "print(var_dic_list())"
    },
    "r": {
     "delete_cmd_postfix": ") ",
     "delete_cmd_prefix": "rm(",
     "library": "var_list.r",
     "varRefreshCmd": "cat(var_dic_list()) "
    }
   },
   "position": {
    "height": "524px",
    "left": "1423px",
    "right": "20px",
    "top": "120px",
    "width": "348px"
   },
   "types_to_exclude": [
    "module",
    "function",
    "builtin_function_or_method",
    "instance",
    "_Feature"
   ],
   "window_display": false
  }
 },
 "nbformat": 4,
 "nbformat_minor": 2
}
